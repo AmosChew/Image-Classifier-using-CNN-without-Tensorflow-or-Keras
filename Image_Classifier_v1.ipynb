{
 "cells": [
  {
   "cell_type": "markdown",
   "metadata": {},
   "source": [
    "# Image Classifier using Convolutional Neural Network"
   ]
  },
  {
   "cell_type": "code",
   "execution_count": null,
   "metadata": {},
   "outputs": [],
   "source": [
    "import numpy as np\n",
    "import pickle\n",
    "import imageio\n",
    "import glob\n",
    "from tqdm import tqdm"
   ]
  },
  {
   "cell_type": "markdown",
   "metadata": {},
   "source": [
    " "
   ]
  },
  {
   "cell_type": "markdown",
   "metadata": {},
   "source": [
    "## Forward-Propagation Functions"
   ]
  },
  {
   "cell_type": "markdown",
   "metadata": {},
   "source": [
    "### Forward Convolution Layer"
   ]
  },
  {
   "cell_type": "code",
   "execution_count": null,
   "metadata": {},
   "outputs": [],
   "source": [
    "def Convolution_Forward(image, _filter, bias, stride):  # Convolve 'filter' over 'image' using 'stride'\n",
    "\n",
    "    img_depth, img_dim, _ = image.shape  # image dimensions\n",
    "    (n_f, f_depth, f_dim, _) = _filter.shape  # filter dimensions\n",
    "    out_dim = int((img_dim - f_dim) / stride) + 1  # output dimensions\n",
    "    assert img_depth == f_depth, \"Input image's depth must equal with filter's depth\"\n",
    "    out = np.zeros((n_f, out_dim, out_dim))  # Initialise output that holds the values of the convolution process\n",
    "\n",
    "    for current_f in range(n_f):  # Convolve 'filter' over every part of 'image', adding the bias at each step\n",
    "        current_y = out_y = 0\n",
    "        while current_y + f_dim <= img_dim:  # Slide filter vertically across the image\n",
    "            current_x = out_x = 0\n",
    "            while current_x + f_dim <= img_dim:  # Slide filter horizontally across the image\n",
    "                # Perform convolution and add the bias\n",
    "                out[current_f, out_y, out_x] = np.sum(_filter[current_f] * image[:, current_y: current_y + f_dim,\n",
    "                                                                    current_x: current_x + f_dim]) + bias[current_f]\n",
    "                current_x += stride;    out_x += 1\n",
    "            current_y += stride;    out_y += 1\n",
    "\n",
    "    return out"
   ]
  },
  {
   "cell_type": "markdown",
   "metadata": {},
   "source": [
    "###  Forward Maxpooling Layer"
   ]
  },
  {
   "cell_type": "code",
   "execution_count": null,
   "metadata": {},
   "outputs": [],
   "source": [
    "def Maxpooling_Forward(image, kernel_size, stride):  # Downsampling 'image' using 'kernel_size' and 'stride'\n",
    "\n",
    "    i_depth, i_height, i_width = image.shape  # image dimensions\n",
    "\n",
    "    # Output dimensions after maxpooling\n",
    "    o_height = int((i_height - kernel_size) / stride) + 1\n",
    "    o_width = int((i_width - kernel_size) / stride) + 1\n",
    "\n",
    "    out = np.zeros((i_depth, o_height, o_width))  # Initialise output that holds the values of the maxpooling process\n",
    "\n",
    "    # Slide maxpooling window over every part of 'image' using 'stride' and get max value at each step\n",
    "    for i in range(i_depth):\n",
    "        current_y = out_y = 0\n",
    "        while current_y + kernel_size <= i_height:  # Slide window vertically across the image\n",
    "            current_x = out_x = 0\n",
    "            while current_x + kernel_size <= i_width:  # Slide window horizontally across the image\n",
    "                # Obtain max value within the window at each step\n",
    "                out[i, out_y, out_x] = np.max(image[i, current_y: current_y + kernel_size,\n",
    "                                                      current_x: current_x + kernel_size])\n",
    "                current_x += stride;    out_x += 1\n",
    "            current_y += stride;    out_y += 1\n",
    "\n",
    "    return out"
   ]
  },
  {
   "cell_type": "markdown",
   "metadata": {},
   "source": [
    "### Softmax Activation Function"
   ]
  },
  {
   "cell_type": "code",
   "execution_count": null,
   "metadata": {},
   "outputs": [],
   "source": [
    "def Softmax_Activation(X):  # Maps all final dense layer outputs to a vector whose elements sum up to 1\n",
    "    out = np.exp(X)\n",
    "    return out / np.sum(out)  # Divide the exponentiated vector by its sum"
   ]
  },
  {
   "cell_type": "markdown",
   "metadata": {},
   "source": [
    "### Loss Function"
   ]
  },
  {
   "cell_type": "code",
   "execution_count": null,
   "metadata": {},
   "outputs": [],
   "source": [
    "# Loss function assigns a real-valued number to define the model’s accuracy when predicting the output\n",
    "def Categorical_Cross_Entropy(probability, label):\n",
    "    # Multiply the desired output label by the log of the prediction, then sum all values in the vector\n",
    "    return -np.sum(label * np.log(probability))"
   ]
  },
  {
   "cell_type": "markdown",
   "metadata": {},
   "source": [
    "### Image Labelling Function"
   ]
  },
  {
   "cell_type": "code",
   "execution_count": null,
   "metadata": {},
   "outputs": [],
   "source": [
    "def Image_Label(image_name):  # Create a label for each image\n",
    "    i_label = image_name.split(\"_\", 1)[0]\n",
    "    if 'Aeroplane' in i_label:  # Assign '0' for 'Aeroplane' images\n",
    "        return 0\n",
    "    elif 'Helicopter' in i_label:  # Assign '1' for 'Helicopter' images\n",
    "        return 1"
   ]
  },
  {
   "cell_type": "markdown",
   "metadata": {},
   "source": [
    " "
   ]
  },
  {
   "cell_type": "markdown",
   "metadata": {},
   "source": [
    "## Back-Propagation Functions"
   ]
  },
  {
   "cell_type": "markdown",
   "metadata": {},
   "source": [
    "### Back Propagation through Convolution Layer"
   ]
  },
  {
   "cell_type": "code",
   "execution_count": null,
   "metadata": {},
   "outputs": [],
   "source": [
    "def Convolution_Backward(dconv_prev, conv_in, _filter, stride):  # Backpropagation through a convolutional layer\n",
    "\n",
    "    (n_f, f_depth, f_dim, _) = _filter.shape  # Filter dimensions\n",
    "    (_, conv_dim, _) = conv_in.shape  # Convoluted input dimensions\n",
    "\n",
    "    # Initialize Derivatives\n",
    "    dout = np.zeros(conv_in.shape)\n",
    "    dfilter = np.zeros(_filter.shape)\n",
    "    dbias = np.zeros((n_f, 1))\n",
    "\n",
    "    for current_f in range(n_f):  # Loop through all filters\n",
    "        current_y = out_y = 0\n",
    "        while current_y + f_dim <= conv_dim:  # Slide window vertically across the convoluted input\n",
    "            current_x = out_x = 0\n",
    "            while current_x + f_dim <= conv_dim:  # Slide window horizontally across the convoluted input\n",
    "                # Loss gradient of the filter\n",
    "                dfilter[current_f] += dconv_prev[current_f, out_y, out_x] * conv_in[:, current_y: current_y + f_dim,\n",
    "                                                                            current_x: current_x + f_dim]\n",
    "                # Loss gradient of the input to the convolution process\n",
    "                dout[:, current_y: current_y + f_dim, current_x: current_x + f_dim] += dconv_prev[current_f, out_y,\n",
    "                                                                                            out_x] * _filter[current_f]\n",
    "                current_x += stride;    out_x += 1\n",
    "            current_y += stride;    out_y += 1\n",
    "\n",
    "        # Loss gradient of the bias\n",
    "        dbias[current_f] = np.sum(dconv_prev[current_f])\n",
    "\n",
    "    return dout, dfilter, dbias"
   ]
  },
  {
   "cell_type": "markdown",
   "metadata": {},
   "source": [
    "### Back Propagation through Maxpooled Layer"
   ]
  },
  {
   "cell_type": "code",
   "execution_count": null,
   "metadata": {},
   "outputs": [],
   "source": [
    "def nanargmax(array):  # Return index of the largest non-nan value in the array\n",
    "    index = np.nanargmax(array)\n",
    "    _index = np.unravel_index(index, array.shape)  # Converts array of flat indices into a tuple of coordinate arrays\n",
    "    return _index\n",
    "\n",
    "\n",
    "def Maxpooling_Backward(dpool, orig, kernel_size, stride):  # Backpropagation through a maxpooling layer\n",
    "\n",
    "    (orig_depth, orig_dim, _) = orig.shape  # Maxpooled input dimensions\n",
    "    dout = np.zeros(orig.shape)  # Initialize output derivatives\n",
    "\n",
    "    for current_c in range(orig_depth):\n",
    "        current_y = out_y = 0\n",
    "        while current_y + kernel_size <= orig_dim:  # Slide window vertically across the maxpooled input\n",
    "            current_x = out_x = 0\n",
    "            while current_x + kernel_size <= orig_dim:  # Slide window horizontally across the maxpooled input\n",
    "                # Obtain index of largest value in input for current window\n",
    "                (x, y) = nanargmax(orig[current_c, current_y: current_y + kernel_size,\n",
    "                                   current_x: current_x + kernel_size])\n",
    "                # Gradients are passed through the indices of largest value in original maxpooling during forward step\n",
    "                dout[current_c, current_y + x, current_x + y] = dpool[current_c, out_y, out_x]\n",
    "\n",
    "                current_x += stride;    out_x += 1\n",
    "            current_y += stride;    out_y += 1\n",
    "\n",
    "    return dout"
   ]
  },
  {
   "cell_type": "markdown",
   "metadata": {},
   "source": [
    " "
   ]
  },
  {
   "cell_type": "markdown",
   "metadata": {},
   "source": [
    "## Training a Model"
   ]
  },
  {
   "cell_type": "markdown",
   "metadata": {},
   "source": [
    "### Initialise Filters and Weights"
   ]
  },
  {
   "cell_type": "code",
   "execution_count": null,
   "metadata": {},
   "outputs": [],
   "source": [
    "def Initialise_Filter(size):  # He-et-al Initialisation\n",
    "    return (np.random.standard_normal(size=size))*(np.sqrt(2/(np.prod(size))))\n",
    "\n",
    "\n",
    "def Initialise_Weight(size):  # He-et-al Initialisation\n",
    "    return (np.random.standard_normal(size=size))*(np.sqrt(2/(np.prod(size))))"
   ]
  },
  {
   "cell_type": "markdown",
   "metadata": {},
   "source": [
    "### Forward and Back Propagation Combined"
   ]
  },
  {
   "cell_type": "code",
   "execution_count": null,
   "metadata": {},
   "outputs": [],
   "source": [
    "def Full_Convolution(image, label, parameters, c_stride, kernel_size, mp_stride):  # Forward and Back Propagation\n",
    "\n",
    "    [f1, f2, w3, w4, b1, b2, b3, b4] = parameters\n",
    "\n",
    "    ''' ---------------- Forward Propagation Process ---------------- '''\n",
    "\n",
    "    convolve_1 = Convolution_Forward(image, f1, b1, c_stride)  # 1st Convolution\n",
    "    convolve_1[convolve_1 <= 0] = 0  # pass through ReLU Layer\n",
    "    pooled_1 = Maxpooling_Forward(convolve_1, kernel_size, mp_stride)  # 1st Maxpooling\n",
    "\n",
    "    convolve_2 = Convolution_Forward(pooled_1, f2, b2, c_stride)  # 2nd Convolution\n",
    "    convolve_2[convolve_2 <= 0] = 0  # pass through ReLU Layer\n",
    "    pooled_2 = Maxpooling_Forward(convolve_2, kernel_size, mp_stride)  # 2nd Maxpooling\n",
    "\n",
    "    (p2_f, p2_dim, _) = pooled_2.shape\n",
    "    Z1 = pooled_2.reshape((p2_f * p2_dim * p2_dim, 1))  # Flatten Maxpooled Layer\n",
    "    Z = w3.dot(Z1) + b3  # 1st Dense Layer\n",
    "    Z[Z <= 0] = 0  # pass through ReLU Layer\n",
    "    out = w4.dot(Z) + b4  # 2nd Dense Layer\n",
    "\n",
    "    probability = Softmax_Activation(out)  # Predict class probability\n",
    "\n",
    "    ''' ---------------- Loss Function ---------------- '''\n",
    "\n",
    "    loss = Categorical_Cross_Entropy(probability, label)  # Categorical Cross-Entropy Loss function\n",
    "\n",
    "    ''' ---------------- Backward Propagation Process ---------------- '''\n",
    "\n",
    "    dout = probability - label  # Derivative of loss with respect to 2nd Dense Layer output\n",
    "    dw4 = dout.dot(Z.T)  # Loss gradient of 2nd Dense Layer weight\n",
    "    db4 = np.sum(dout, axis=1).reshape(b4.shape)  # Loss gradient of 2nd Dense Layer bias\n",
    "\n",
    "    dZ = w4.T.dot(dout)  # Loss gradient of 1st Dense Layer output\n",
    "    dZ[Z <= 0] = 0  # Back-propagation through ReLU\n",
    "    dw3 = dZ.dot(Z1.T)  # Loss gradient of 1st Dense Layer weight\n",
    "    db3 = np.sum(dZ, axis=1).reshape(b3.shape)  # Loss gradient of 1st Dense Layer bias\n",
    "\n",
    "    dZ1 = w3.T.dot(dZ)  # Loss gradient of fully-connected layer\n",
    "    dpooled_2 = dZ1.reshape(pooled_2.shape)  # Reshape fully-connected layer into dimensions of 2nd Max-pooled layer\n",
    "\n",
    "    # Back-propagation through 2nd Max-pooled layer\n",
    "    dconvolve_2 = Maxpooling_Backward(dpooled_2, convolve_2, kernel_size, mp_stride)\n",
    "\n",
    "    dconvolve_2[convolve_2 <= 0] = 0  # Back-propagation through ReLU\n",
    "\n",
    "    # Back-propagation previous gradient through 2nd Convolution layer\n",
    "    dpooled_1, df2, db2 = Convolution_Backward(dconvolve_2, pooled_1, f2, c_stride)\n",
    "\n",
    "    # Back-propagation through 1st Max-pooled layer\n",
    "    dconvolve_1 = Maxpooling_Backward(dpooled_1, convolve_1, kernel_size, mp_stride)\n",
    "\n",
    "    dconvolve_1[convolve_1 <= 0] = 0  # Back-propagation through ReLU\n",
    "\n",
    "    # Back-propagation previous gradient through 1st Convolution layer\n",
    "    dimage, df1, db1 = Convolution_Backward(dconvolve_1, image, f1, c_stride)\n",
    "\n",
    "    gradients = [df1, df2, dw3, dw4, db1, db2, db3, db4]\n",
    "\n",
    "    return gradients, loss"
   ]
  },
  {
   "cell_type": "markdown",
   "metadata": {},
   "source": [
    "### Adam Optimisation for gradient descent"
   ]
  },
  {
   "cell_type": "code",
   "execution_count": null,
   "metadata": {},
   "outputs": [],
   "source": [
    "# Adam Optimisation for gradient descent\n",
    "def Adam_Gradient(image, label, batch_size, num_classes, _learning_rate, beta1, beta2, parameters, cost):\n",
    "\n",
    "    [f1, f2, w3, w4, b1, b2, b3, b4] = parameters\n",
    "\n",
    "    _cost = 0\n",
    "    if batch_size > 1:\n",
    "        _cost = cost[batch_size-2]\n",
    "\n",
    "    # Initialise gradients and momentum, RMS parameters\n",
    "    df1 = np.zeros(f1.shape);   df2 = np.zeros(f2.shape);   dw3 = np.zeros(w3.shape);   dw4 = np.zeros(w4.shape)\n",
    "    db1 = np.zeros(b1.shape);   db2 = np.zeros(b2.shape);   db3 = np.zeros(b3.shape);   db4 = np.zeros(b4.shape)\n",
    "\n",
    "    v1 = np.zeros(f1.shape);    v2 = np.zeros(f2.shape);    v3 = np.zeros(w3.shape);    v4 = np.zeros(w4.shape)\n",
    "    bv1 = np.zeros(b1.shape);   bv2 = np.zeros(b2.shape);   bv3 = np.zeros(b3.shape);   bv4 = np.zeros(b4.shape)\n",
    "\n",
    "    s1 = np.zeros(f1.shape);    s2 = np.zeros(f2.shape);    s3 = np.zeros(w3.shape);    s4 = np.zeros(w4.shape)\n",
    "    bs1 = np.zeros(b1.shape);   bs2 = np.zeros(b2.shape);   bs3 = np.zeros(b3.shape);   bs4 = np.zeros(b4.shape)\n",
    "\n",
    "    # for i in range(batch_size):\n",
    "    x = image\n",
    "    y = np.eye(num_classes)[int(label)].reshape(num_classes, 1)  # convert label to one-hot\n",
    "\n",
    "    # Obtain Gradients for training updates\n",
    "    gradients, loss = Full_Convolution(x, y, parameters, 1, 2, 2)\n",
    "    [_df1, _df2, _dw3, _dw4, _db1, _db2, _db3, _db4] = gradients\n",
    "\n",
    "    df1 += _df1;    db1 += _db1;    df2 += _df2;    db2 += _db2\n",
    "    dw3 += _dw3;    db3 += _db3;    dw4 += _dw4;    db4 += _db4\n",
    "\n",
    "    _cost += loss\n",
    "\n",
    "    # Parameter Updates\n",
    "    v1 = beta1 * v1 + (1 - beta1) * df1 / batch_size  # Momentum update\n",
    "    s1 = beta2 * s1 + (1 - beta2) * (df1 / batch_size) ** 2  # RMSProp update\n",
    "    f1 -= _learning_rate * v1 / np.sqrt(s1 + 1e-8)  # Combine Momentum and RMSProp to perform update with Adam\n",
    "\n",
    "    bv1 = beta1 * bv1 + (1 - beta1) * db1 / batch_size\n",
    "    bs1 = beta2 * bs1 + (1 - beta2) * (db1 / batch_size) ** 2\n",
    "    b1 -= _learning_rate * bv1 / np.sqrt(bs1 + 1e-8)\n",
    "\n",
    "    v2 = beta1 * v2 + (1 - beta1) * df2 / batch_size\n",
    "    s2 = beta2 * s2 + (1 - beta2) * (df2 / batch_size) ** 2\n",
    "    f2 -= _learning_rate * v2 / np.sqrt(s2 + 1e-8)\n",
    "\n",
    "    bv2 = beta1 * bv2 + (1 - beta1) * db2 / batch_size\n",
    "    bs2 = beta2 * bs2 + (1 - beta2) * (db2 / batch_size) ** 2\n",
    "    b2 -= _learning_rate * bv2 / np.sqrt(bs2 + 1e-8)\n",
    "\n",
    "    v3 = beta1 * v3 + (1 - beta1) * dw3 / batch_size\n",
    "    s3 = beta2 * s3 + (1 - beta2) * (dw3 / batch_size) ** 2\n",
    "    w3 -= _learning_rate * v3 / np.sqrt(s3 + 1e-8)\n",
    "\n",
    "    bv3 = beta1 * bv3 + (1 - beta1) * db3 / batch_size\n",
    "    bs3 = beta2 * bs3 + (1 - beta2) * (db3 / batch_size) ** 2\n",
    "    b3 -= _learning_rate * bv3 / np.sqrt(bs3 + 1e-8)\n",
    "\n",
    "    v4 = beta1 * v4 + (1 - beta1) * dw4 / batch_size\n",
    "    s4 = beta2 * s4 + (1 - beta2) * (dw4 / batch_size) ** 2\n",
    "    w4 -= _learning_rate * v4 / np.sqrt(s4 + 1e-8)\n",
    "\n",
    "    bv4 = beta1 * bv4 + (1 - beta1) * db4 / batch_size\n",
    "    bs4 = beta2 * bs4 + (1 - beta2) * (db4 / batch_size) ** 2\n",
    "    b4 -= _learning_rate * bv4 / np.sqrt(bs4 + 1e-8)\n",
    "\n",
    "    _cost = _cost / batch_size\n",
    "    cost.append(_cost)\n",
    "\n",
    "    parameters = [f1, f2, w3, w4, b1, b2, b3, b4]\n",
    "\n",
    "    return parameters, cost"
   ]
  },
  {
   "cell_type": "markdown",
   "metadata": {},
   "source": [
    "### Function to train a model"
   ]
  },
  {
   "cell_type": "code",
   "execution_count": null,
   "metadata": {},
   "outputs": [],
   "source": [
    "def Train(num_classes=2, learning_rate=0.001, beta1=0.95, beta2=0.999, img_dim=120, img_depth=1,\n",
    "          f_dim=3, num_f1=5, num_f2=5, batch_size=100, num_epochs=2, filename='Aeroplane_Helicopter_v6.pkl'):\n",
    "    \n",
    "    # Obtain sample images for model training\n",
    "    imgM_input = []\n",
    "    fileM_aero = glob.glob(\"Aeroplane/Train_1/*.jpg\")\n",
    "    fileM_heli = glob.glob(\"Helicopter/Train_1/*.jpg\")\n",
    "    for fileA in fileM_aero:\n",
    "        input_imageA = imageio.imread(fileA, as_gray=True)\n",
    "        imgM_input.append([input_imageA, Image_Label(fileA)])\n",
    "    for fileH in fileM_heli:\n",
    "        input_imageH = imageio.imread(fileH, as_gray=True)\n",
    "        imgM_input.append([input_imageH, Image_Label(fileH)])\n",
    "\n",
    "    np.random.shuffle(imgM_input)  # Shuffle input data\n",
    "    X = np.array([i[0] for i in imgM_input]).reshape(batch_size, img_depth, img_dim, img_dim)  # Stores image data\n",
    "    X -= int(np.mean(X));   X /= int(np.std(X))  # Normalize the data\n",
    "    labels = [i[1] for i in imgM_input]  # Stores image labels\n",
    "\n",
    "    # Initializing all parameters (Filters, Weights, and Biases)\n",
    "    f1, f2, w3, w4 = (num_f1, img_depth, f_dim, f_dim), (num_f2, num_f1, f_dim, f_dim), (600, 3920), (2, 600)\n",
    "    f1 = Initialise_Filter(f1);  f2 = Initialise_Filter(f2)\n",
    "    w3 = Initialise_Weight(w3);  w4 = Initialise_Weight(w4)\n",
    "    b1 = np.zeros((f1.shape[0], 1));    b2 = np.zeros((f2.shape[0], 1))\n",
    "    b3 = np.zeros((w3.shape[0], 1));    b4 = np.zeros((w4.shape[0], 1))\n",
    "\n",
    "    parameters = [f1, f2, w3, w4, b1, b2, b3, b4]\n",
    "\n",
    "    cost = []\n",
    "\n",
    "    print(\"Learning Rate:\" + str(learning_rate) + \", Batch Size:\" + str(batch_size))\n",
    "\n",
    "    for epoch in range(num_epochs):\n",
    "        for i in range(batch_size):\n",
    "            sample_num = (i + 1) + (epoch * batch_size)\n",
    "            parameters, cost = Adam_Gradient(X[i], labels[i], sample_num, num_classes,\n",
    "                                             learning_rate, beta1, beta2, parameters, cost)\n",
    "            print(sample_num, cost[sample_num-1])\n",
    "\n",
    "    to_save = [parameters, cost]\n",
    "\n",
    "    with open(filename, 'wb') as file:\n",
    "        pickle.dump(to_save, file)\n",
    "\n",
    "    return cost"
   ]
  },
  {
   "cell_type": "code",
   "execution_count": null,
   "metadata": {},
   "outputs": [],
   "source": [
    "costs = Train()"
   ]
  },
  {
   "attachments": {
    "Model%20v6.png": {
     "image/png": "[encoded data removed]"
    }
   },
   "cell_type": "markdown",
   "metadata": {},
   "source": [
    "![Model%20v6.png](attachment:Model%20v6.png) - Model v6 training results (100 sample images)"
   ]
  },
  {
   "cell_type": "markdown",
   "metadata": {},
   "source": [
    " "
   ]
  },
  {
   "cell_type": "markdown",
   "metadata": {},
   "source": [
    "## Testing a Model"
   ]
  },
  {
   "cell_type": "markdown",
   "metadata": {},
   "source": [
    "### Prediction Function"
   ]
  },
  {
   "cell_type": "code",
   "execution_count": null,
   "metadata": {},
   "outputs": [],
   "source": [
    "# Make predictions with trained filters/weights\n",
    "def Predict(image, _f1, _f2, _w3, _w4, _b1, _b2, _b3, _b4, c_stride=1, kernel_size=2, mp_stride=2):\n",
    "\n",
    "    convolve_1 = Convolution_Forward(image, _f1, _b1, c_stride)  # 1st Convolution\n",
    "    convolve_1[convolve_1 <= 0] = 0  # pass through ReLU Layer\n",
    "    pooled_1 = Maxpooling_Forward(convolve_1, kernel_size, mp_stride)  # 1st Maxpooling\n",
    "\n",
    "    convolve_2 = Convolution_Forward(pooled_1, _f2, _b2, c_stride)  # 2nd Convolution\n",
    "    convolve_2[convolve_2 <= 0] = 0  # pass through ReLU Layer\n",
    "    pooled_2 = Maxpooling_Forward(convolve_2, kernel_size, mp_stride)  # 2nd Maxpooling\n",
    "\n",
    "    (p2_f, p2_dim, _) = pooled_2.shape\n",
    "    Z1 = pooled_2.reshape((p2_f * p2_dim * p2_dim, 1))  # Flatten Maxpooled Layer\n",
    "    Z = _w3.dot(Z1) + _b3  # 1st Dense Layer\n",
    "    Z[Z <= 0] = 0  # pass through ReLU Layer\n",
    "    out = _w4.dot(Z) + _b4  # 2nd Dense Layer\n",
    "\n",
    "    _probability = Softmax_Activation(out)  # Predict class probability\n",
    "\n",
    "    return np.argmax(_probability), np.max(_probability)"
   ]
  },
  {
   "cell_type": "markdown",
   "metadata": {},
   "source": [
    "### Data extractions and testing process"
   ]
  },
  {
   "cell_type": "code",
   "execution_count": null,
   "metadata": {},
   "outputs": [],
   "source": [
    "# Extract parameters from trained Model\n",
    "parameters, cost = pickle.load(open('Aeroplane_Helicopter_v6.pkl', 'rb'))\n",
    "[f1, f2, w3, w4, b1, b2, b3, b4] = parameters\n",
    "\n",
    "# Obtain test images\n",
    "img_input = []\n",
    "file_aero = glob.glob(\"Aeroplane/Test_1/*.jpg\")\n",
    "file_heli = glob.glob(\"Helicopter/Test_1/*.jpg\")\n",
    "for fileA in file_aero:\n",
    "    input_imageA = imageio.imread(fileA, as_gray=True)\n",
    "    img_input.append([input_imageA, Image_Label(fileA)])\n",
    "for fileH in file_heli:\n",
    "    input_imageH = imageio.imread(fileH, as_gray=True)\n",
    "    img_input.append([input_imageH, Image_Label(fileH)])\n",
    "\n",
    "X = np.array([i[0] for i in img_input]).reshape(80, 1, 120, 120)  # Stores image data\n",
    "X -= int(np.mean(X));   X /= int(np.std(X))  # Normalize the data\n",
    "_labels = [i[1] for i in img_input]  # Stores image labels\n",
    "\n",
    "correct = 0\n",
    "print()\n",
    "print(\"\\nComputing accuracy over test set:\")\n",
    "t = tqdm(range(len(X)), leave=True)\n",
    "\n",
    "for i in t:\n",
    "    _X = X[i]\n",
    "    prediction, probability = Predict(_X, f1, f2, w3, w4, b1, b2, b3, b4)\n",
    "    if prediction == _labels[i]:\n",
    "        correct += 1  # Count the number of correct predictions\n",
    "\n",
    "    t.set_description(\"Accuracy:%0.2f%%\" % (float(correct / (i + 1)) * 100))\n",
    "\n",
    "print(\"Overall Accuracy: %.2f\" % (float(correct / len(X) * 100)))"
   ]
  },
  {
   "attachments": {
    "Accuracy%20v6.png": {
     "image/png": "[encoded data removed]"
    }
   },
   "cell_type": "markdown",
   "metadata": {},
   "source": [
    "![Accuracy%20v6.png](attachment:Accuracy%20v6.png) - Accuracy result using Model v6 (80 test images)"
   ]
  },
  {
   "cell_type": "markdown",
   "metadata": {},
   "source": [
    " "
   ]
  }
 ],
 "metadata": {
  "kernelspec": {
   "display_name": "Python 3",
   "language": "python",
   "name": "python3"
  },
  "language_info": {
   "codemirror_mode": {
    "name": "ipython",
    "version": 3
   },
   "file_extension": ".py",
   "mimetype": "text/x-python",
   "name": "python",
   "nbconvert_exporter": "python",
   "pygments_lexer": "ipython3",
   "version": "3.7.2"
  }
 },
 "nbformat": 4,
 "nbformat_minor": 2
}
